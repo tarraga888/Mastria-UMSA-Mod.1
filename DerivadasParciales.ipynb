{
 "cells": [
  {
   "cell_type": "code",
   "execution_count": 15,
   "id": "e431d1bf",
   "metadata": {},
   "outputs": [],
   "source": [
    "import numpy as np\n",
    "import matplotlib.pyplot as plt\n",
    "%matplotlib inline"
   ]
  },
  {
   "cell_type": "markdown",
   "id": "2561cf40",
   "metadata": {},
   "source": [
    "## Teorema de Karush-Kuhn-Tucker"
   ]
  },
  {
   "cell_type": "markdown",
   "id": "2a3f8140",
   "metadata": {},
   "source": [
    "### - Condiciones\n",
    "Los escalares 𝜆1, ... , 𝜆𝑝 son asociados a las restricciones de igualdad y se denominan multiplicadores de Lagrange\n",
    "\n",
    "Los escalares 𝜇1, ... , 𝜇𝑞 son asociados a las restricciones de desigualdad y se denominan multiplicadores de Karush-Kuhn-Tucker\n",
    "\n",
    "El teorema de Karush-Kuhn-Tucker solo aporta una condición necesaria, y no suficiente, de existencia de solución del programa\n",
    "\n",
    "En la práctica, si se sabe de antemano que existe un punto 𝒙∗ ∈ 𝛺 que es solución de (PM), entonces 𝒙∗ cumple las siguientes condiciones:\n",
    "#### Condición estacionaria: \n",
    "#### Condición de Factibilidad:\n",
    "#### Condición Holgura: \n",
    "#### Condición deSigno: \n"
   ]
  },
  {
   "cell_type": "markdown",
   "id": "70064e39",
   "metadata": {},
   "source": [
    "### - Ejemplo"
   ]
  },
  {
   "cell_type": "code",
   "execution_count": 21,
   "id": "71bd79ba",
   "metadata": {},
   "outputs": [],
   "source": [
    "from sympy import symbols\n",
    "x,y,z=symbols('x y z')\n"
   ]
  },
  {
   "cell_type": "markdown",
   "id": "3ed75120",
   "metadata": {},
   "source": [
    "Optimizar  \n",
    "$$ f(x,y,x) = x^2+y^2-1 $$\n",
    "sujeto a \n",
    "$$ x+y>=-1 $$\n",
    "La ecuacion de Lagrange\n",
    "$$ \\bigtriangledown f(x,y,z)+\\lambda g(x) $$"
   ]
  },
  {
   "cell_type": "code",
   "execution_count": 22,
   "id": "390faa68",
   "metadata": {},
   "outputs": [
    {
     "name": "stdout",
     "output_type": "stream",
     "text": [
      "Df/Dx: 2*x + y\n",
      "Df/Dy: x + 2*y\n"
     ]
    }
   ],
   "source": [
    "F=x**2+y**2+x*y\n",
    "Ddx=F.diff(x)\n",
    "Ddy=F.diff(y)\n",
    "print('Df/Dx:',Ddx)\n",
    "print('Df/Dy:',Ddy)"
   ]
  },
  {
   "cell_type": "code",
   "execution_count": 25,
   "id": "3534cc12",
   "metadata": {},
   "outputs": [
    {
     "name": "stdout",
     "output_type": "stream",
     "text": [
      "y + 2\n"
     ]
    }
   ],
   "source": [
    "DTX=Ddx.subs(x,1)\n",
    "print(DTX)"
   ]
  },
  {
   "cell_type": "markdown",
   "id": "03108bfa",
   "metadata": {},
   "source": [
    "$$ \\dfrac{+y>=-1}{x-1} $$"
   ]
  },
  {
   "cell_type": "markdown",
   "id": "9b3d3b75",
   "metadata": {},
   "source": [
    "$$ \\bigtriangledown \\Delta $$ \n",
    "$$ \\blacktriangledown $$"
   ]
  },
  {
   "cell_type": "code",
   "execution_count": null,
   "id": "4d8f30b1",
   "metadata": {},
   "outputs": [],
   "source": []
  }
 ],
 "metadata": {
  "kernelspec": {
   "display_name": "Python 3 (ipykernel)",
   "language": "python",
   "name": "python3"
  },
  "language_info": {
   "codemirror_mode": {
    "name": "ipython",
    "version": 3
   },
   "file_extension": ".py",
   "mimetype": "text/x-python",
   "name": "python",
   "nbconvert_exporter": "python",
   "pygments_lexer": "ipython3",
   "version": "3.9.7"
  }
 },
 "nbformat": 4,
 "nbformat_minor": 5
}
