{
 "cells": [
  {
   "cell_type": "code",
   "execution_count": 3,
   "id": "e431d1bf",
   "metadata": {},
   "outputs": [],
   "source": [
    "import numpy as np\n",
    "import matplotlib.pyplot as plt\n",
    "%matplotlib inline"
   ]
  },
  {
   "cell_type": "markdown",
   "id": "4bbc8c49",
   "metadata": {},
   "source": [
    "## Ejercicios"
   ]
  },
  {
   "cell_type": "markdown",
   "id": "0cf259e6",
   "metadata": {},
   "source": [
    "### Estudiar la siguiente funcion\n",
    "$$ f(x,y,x) = \\dfrac{3}{4}y^2 +\\dfrac{1}{24}y^3-\\dfrac{1}{32}y^4-x^2$$\n",
    "Analizar si tiene maximos y minimos locales"
   ]
  },
  {
   "cell_type": "code",
   "execution_count": 6,
   "id": "9c5d72cb",
   "metadata": {},
   "outputs": [
    {
     "ename": "TypeError",
     "evalue": "unsupported operand type(s) for ^: 'Mul' and 'Add'",
     "output_type": "error",
     "traceback": [
      "\u001b[0;31m---------------------------------------------------------------------------\u001b[0m",
      "\u001b[0;31mTypeError\u001b[0m                                 Traceback (most recent call last)",
      "\u001b[0;32m/var/folders/yy/mqxwmw2916d_4ydqkt1th3gw0000gn/T/ipykernel_3163/3111809910.py\u001b[0m in \u001b[0;36m<module>\u001b[0;34m\u001b[0m\n\u001b[0;32m----> 1\u001b[0;31m \u001b[0mF\u001b[0m\u001b[0;34m=\u001b[0m\u001b[0;34m(\u001b[0m\u001b[0;36m3\u001b[0m\u001b[0;34m/\u001b[0m\u001b[0;36m4\u001b[0m\u001b[0;34m)\u001b[0m\u001b[0;34m*\u001b[0m\u001b[0my\u001b[0m\u001b[0;34m^\u001b[0m\u001b[0;36m3\u001b[0m \u001b[0;34m+\u001b[0m\u001b[0my\u001b[0m\u001b[0;34m**\u001b[0m\u001b[0;36m2\u001b[0m\u001b[0;34m+\u001b[0m\u001b[0mx\u001b[0m\u001b[0;34m*\u001b[0m\u001b[0my\u001b[0m\u001b[0;34m\u001b[0m\u001b[0;34m\u001b[0m\u001b[0m\n\u001b[0m\u001b[1;32m      2\u001b[0m \u001b[0mDdx\u001b[0m\u001b[0;34m=\u001b[0m\u001b[0mF\u001b[0m\u001b[0;34m.\u001b[0m\u001b[0mdiff\u001b[0m\u001b[0;34m(\u001b[0m\u001b[0mx\u001b[0m\u001b[0;34m)\u001b[0m\u001b[0;34m\u001b[0m\u001b[0;34m\u001b[0m\u001b[0m\n\u001b[1;32m      3\u001b[0m \u001b[0mDdy\u001b[0m\u001b[0;34m=\u001b[0m\u001b[0mF\u001b[0m\u001b[0;34m.\u001b[0m\u001b[0mdiff\u001b[0m\u001b[0;34m(\u001b[0m\u001b[0my\u001b[0m\u001b[0;34m)\u001b[0m\u001b[0;34m\u001b[0m\u001b[0;34m\u001b[0m\u001b[0m\n\u001b[1;32m      4\u001b[0m \u001b[0mprint\u001b[0m\u001b[0;34m(\u001b[0m\u001b[0;34m'Df/Dx:'\u001b[0m\u001b[0;34m,\u001b[0m\u001b[0mDdx\u001b[0m\u001b[0;34m)\u001b[0m\u001b[0;34m\u001b[0m\u001b[0;34m\u001b[0m\u001b[0m\n\u001b[1;32m      5\u001b[0m \u001b[0mprint\u001b[0m\u001b[0;34m(\u001b[0m\u001b[0;34m'Df/Dy:'\u001b[0m\u001b[0;34m,\u001b[0m\u001b[0mDdy\u001b[0m\u001b[0;34m)\u001b[0m\u001b[0;34m\u001b[0m\u001b[0;34m\u001b[0m\u001b[0m\n",
      "\u001b[0;31mTypeError\u001b[0m: unsupported operand type(s) for ^: 'Mul' and 'Add'"
     ]
    }
   ],
   "source": [
    "F=(3/4)*y^3 +y**2+x*y\n",
    "Ddx=F.diff(x)\n",
    "Ddy=F.diff(y)\n",
    "print('Df/Dx:',Ddx)\n",
    "print('Df/Dy:',Ddy)"
   ]
  },
  {
   "cell_type": "markdown",
   "id": "c42e3f9d",
   "metadata": {},
   "source": [
    "### - /-/-/-/- Ejemplo"
   ]
  },
  {
   "cell_type": "code",
   "execution_count": 2,
   "id": "71bd79ba",
   "metadata": {},
   "outputs": [],
   "source": [
    "from sympy import symbols\n",
    "x,y,z=symbols('x y z')\n"
   ]
  },
  {
   "cell_type": "markdown",
   "id": "f3bb5f04",
   "metadata": {},
   "source": [
    "Optimizar  \n",
    "$$ f(x,y,x) = x^2+y^2-1 $$\n",
    "sujeto a \n",
    "$$ x+y<=-1 $$\n",
    "\n",
    "Resolviendo"
   ]
  },
  {
   "cell_type": "markdown",
   "id": "1aa4cdfa",
   "metadata": {},
   "source": [
    "#### Condición estacionaria: \n",
    "$ \\triangledown f(x,y,x) +\\mu \\triangledown h_{i}(x)=0$\n",
    "\n",
    "$(2x,2y)+\\mu(1,1)=0$"
   ]
  },
  {
   "cell_type": "code",
   "execution_count": 28,
   "id": "1884c892",
   "metadata": {},
   "outputs": [
    {
     "name": "stdout",
     "output_type": "stream",
     "text": [
      "Df/Dx: 2*x + y\n",
      "Df/Dy: x + 2*y\n"
     ]
    }
   ],
   "source": [
    "F=x**2+y**2+x*y\n",
    "Ddx=F.diff(x)\n",
    "Ddy=F.diff(y)\n",
    "print('Df/Dx:',Ddx)\n",
    "print('Df/Dy:',Ddy)"
   ]
  },
  {
   "cell_type": "code",
   "execution_count": 29,
   "id": "31c24283",
   "metadata": {},
   "outputs": [
    {
     "name": "stdout",
     "output_type": "stream",
     "text": [
      "y + 2\n"
     ]
    }
   ],
   "source": [
    "DTX=Ddx.subs(x,1)\n",
    "print(DTX)"
   ]
  },
  {
   "cell_type": "markdown",
   "id": "12c8cb0f",
   "metadata": {},
   "source": [
    "$$ \\dfrac{+y>=-1}{x-1} $$"
   ]
  },
  {
   "cell_type": "markdown",
   "id": "27b89239",
   "metadata": {},
   "source": [
    "$$ \\bigtriangledown \\Delta $$ \n",
    "$$ \\blacktriangledown $$"
   ]
  },
  {
   "cell_type": "code",
   "execution_count": null,
   "id": "6ce5ee21",
   "metadata": {},
   "outputs": [],
   "source": []
  }
 ],
 "metadata": {
  "kernelspec": {
   "display_name": "Python 3 (ipykernel)",
   "language": "python",
   "name": "python3"
  },
  "language_info": {
   "codemirror_mode": {
    "name": "ipython",
    "version": 3
   },
   "file_extension": ".py",
   "mimetype": "text/x-python",
   "name": "python",
   "nbconvert_exporter": "python",
   "pygments_lexer": "ipython3",
   "version": "3.9.7"
  }
 },
 "nbformat": 4,
 "nbformat_minor": 5
}
